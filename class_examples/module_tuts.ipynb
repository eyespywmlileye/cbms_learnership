{
 "cells": [
  {
   "cell_type": "markdown",
   "metadata": {},
   "source": [
    "# Functions"
   ]
  },
  {
   "cell_type": "code",
   "execution_count": null,
   "metadata": {},
   "outputs": [],
   "source": [
    "def calculate_perimeter(length, width):\n",
    "    \"\"\"\n",
    "    Calculate the perimeter of a rectangle.\n",
    "\n",
    "    Parameters:\n",
    "    length (float): The length of the rectangle.\n",
    "    width (float): The width of the rectangle.\n",
    "\n",
    "    Returns:\n",
    "    float: The perimeter of the rectangle.\n",
    "    \"\"\"\n",
    "    return 2 * (length + width) \n",
    "\n",
    "def calculate_area(length , width):\n",
    "    \"\"\"\n",
    "    Calculate the area of a rectangle.\n",
    "\n",
    "    Parameters:\n",
    "    length (float): The length of the rectangle.\n",
    "    width (float): The width of the rectangle.\n",
    "\n",
    "    Returns:\n",
    "    float: The area of the rectangle.\n",
    "    \"\"\"\n",
    "    return length * width\n"
   ]
  },
  {
   "cell_type": "code",
   "execution_count": null,
   "metadata": {},
   "outputs": [],
   "source": [
    "# Functions can call other functions. \n",
    "def perimeter_and_area(length, width): \n",
    "    # Perimeter is a local scope variable.\n",
    "    perimeter = calculate_perimeter(length, width)\n",
    "    area = calculate_area(length, width)\n",
    "    return perimeter, area\n",
    "print(perimeter)"
   ]
  },
  {
   "cell_type": "markdown",
   "metadata": {},
   "source": [
    "Global and local variables"
   ]
  },
  {
   "cell_type": "code",
   "execution_count": null,
   "metadata": {},
   "outputs": [],
   "source": [
    "# Local and global scope example\n",
    "x = 10 # Global variable\n",
    "\n",
    "def test_scope():\n",
    "    # x = 5 # Local variable with same name\n",
    "    # call the global variable \n",
    "    # global x \n",
    "    \n",
    "    y = 20 # Local variable\n",
    "    print(f\"Local x: {x}\") # Accesses local x"
   ]
  },
  {
   "cell_type": "code",
   "execution_count": 2,
   "metadata": {},
   "outputs": [
    {
     "name": "stdout",
     "output_type": "stream",
     "text": [
      "Local x: 10\n"
     ]
    }
   ],
   "source": [
    "test_scope()"
   ]
  },
  {
   "cell_type": "code",
   "execution_count": 5,
   "metadata": {},
   "outputs": [
    {
     "name": "stdout",
     "output_type": "stream",
     "text": [
      "10\n"
     ]
    }
   ],
   "source": [
    "print(x)"
   ]
  },
  {
   "cell_type": "markdown",
   "metadata": {},
   "source": [
    "Nested scope "
   ]
  },
  {
   "cell_type": "code",
   "execution_count": 6,
   "metadata": {},
   "outputs": [
    {
     "name": "stdout",
     "output_type": "stream",
     "text": [
      "x: 3, y: 5, z: 10\n"
     ]
    }
   ],
   "source": [
    "def outer_function(x): \n",
    "    y = 5     \n",
    "    def inner_function(z): \n",
    "        # Y is not accessible here, but x is\n",
    "        # z is a local variable\n",
    "        \n",
    "        print(f\"x: {x}, y: {y}, z: {z}\")\n",
    "        \n",
    "    inner_function(10)\n",
    "    \n",
    "outer_function(3)"
   ]
  },
  {
   "cell_type": "code",
   "execution_count": 18,
   "metadata": {},
   "outputs": [],
   "source": [
    "# Modifying global variables within functions\n",
    "count = 0\n",
    "\n",
    "def increment_counter():\n",
    "    count = 0\n",
    "    # global count # Must declare global to modify\n",
    "    count += 1\n",
    "    return count\n"
   ]
  },
  {
   "cell_type": "code",
   "execution_count": 41,
   "metadata": {},
   "outputs": [
    {
     "data": {
      "text/plain": [
       "1"
      ]
     },
     "execution_count": 41,
     "metadata": {},
     "output_type": "execute_result"
    }
   ],
   "source": [
    "increment_counter()"
   ]
  },
  {
   "cell_type": "code",
   "execution_count": null,
   "metadata": {},
   "outputs": [],
   "source": [
    "print"
   ]
  },
  {
   "cell_type": "code",
   "execution_count": 3,
   "metadata": {},
   "outputs": [
    {
     "data": {
      "text/plain": [
       "16"
      ]
     },
     "execution_count": 3,
     "metadata": {},
     "output_type": "execute_result"
    }
   ],
   "source": [
    "calculate_perimeter(5, 3)\n"
   ]
  },
  {
   "cell_type": "code",
   "execution_count": 4,
   "metadata": {},
   "outputs": [
    {
     "data": {
      "text/plain": [
       "15"
      ]
     },
     "execution_count": 4,
     "metadata": {},
     "output_type": "execute_result"
    }
   ],
   "source": [
    "calculate_area(5, 3)"
   ]
  },
  {
   "cell_type": "code",
   "execution_count": null,
   "metadata": {},
   "outputs": [],
   "source": []
  },
  {
   "cell_type": "code",
   "execution_count": 10,
   "metadata": {},
   "outputs": [
    {
     "name": "stdout",
     "output_type": "stream",
     "text": [
      "Area: 15, Perimeter: 16\n"
     ]
    }
   ],
   "source": [
    "perimeter, area = perimeter_and_area(5, 3)\n",
    "print(f\"Area: {area}, Perimeter: {perimeter}\")"
   ]
  },
  {
   "cell_type": "markdown",
   "metadata": {},
   "source": [
    "# Variable length arguments"
   ]
  },
  {
   "cell_type": "markdown",
   "metadata": {},
   "source": [
    "## Args \n",
    "\n",
    "* Arbitrary number --> Any number / Any amount / any length of inputs\n",
    "* Positional arguments --> result = example_function(1, 2)  # c and d will take default values\n",
    "        \n",
    "        ```\n",
    "        # example of positional and keyword arguments\n",
    "        def example_function(a, b, c=10, d=20):\n",
    "            return a + b + c + d\n",
    "\n",
    "        # Positional arguments\n",
    "        result = example_function(1, 2)  # c and d will take default values\n",
    "        print(result)\n",
    "\n",
    "        # Keyword arguments\n",
    "        result = example_function( c=10, b =  2, d=20 , a = 1) \n",
    "        print(result)\n",
    "        ```\n",
    "* Tuples --> (.. , .. , .. , ..)"
   ]
  },
  {
   "cell_type": "code",
   "execution_count": 50,
   "metadata": {},
   "outputs": [
    {
     "ename": "TypeError",
     "evalue": "calculate_sum() missing 4 required positional arguments: 'c', 'd', 'e', and 'f'",
     "output_type": "error",
     "traceback": [
      "\u001b[0;31m---------------------------------------------------------------------------\u001b[0m",
      "\u001b[0;31mTypeError\u001b[0m                                 Traceback (most recent call last)",
      "Cell \u001b[0;32mIn[50], line 4\u001b[0m\n\u001b[1;32m      1\u001b[0m \u001b[38;5;28;01mdef\u001b[39;00m \u001b[38;5;21mcalculate_sum\u001b[39m(a, b , c , d , e, f): \n\u001b[1;32m      2\u001b[0m     \u001b[38;5;28;01mreturn\u001b[39;00m a \u001b[38;5;241m+\u001b[39m b \u001b[38;5;241m+\u001b[39m c \u001b[38;5;241m+\u001b[39m d \u001b[38;5;241m+\u001b[39m e \u001b[38;5;241m+\u001b[39m f\n\u001b[0;32m----> 4\u001b[0m \u001b[43mcalculate_sum\u001b[49m\u001b[43m(\u001b[49m\u001b[38;5;241;43m5\u001b[39;49m\u001b[43m,\u001b[49m\u001b[43m \u001b[49m\u001b[38;5;241;43m3\u001b[39;49m\u001b[43m)\u001b[49m \u001b[38;5;66;03m# this will raise an error because the function expects only two arguments\u001b[39;00m\n",
      "\u001b[0;31mTypeError\u001b[0m: calculate_sum() missing 4 required positional arguments: 'c', 'd', 'e', and 'f'"
     ]
    }
   ],
   "source": [
    "def calculate_sum(a, b , c , d , e, f): \n",
    "    return a + b + c + d + e + f\n",
    "\n",
    "calculate_sum(5, 3) # this will raise an error because the function expects only two arguments"
   ]
  },
  {
   "cell_type": "code",
   "execution_count": 57,
   "metadata": {},
   "outputs": [
    {
     "name": "stdout",
     "output_type": "stream",
     "text": [
      "(5, 3, 1010)\n"
     ]
    },
    {
     "data": {
      "text/plain": [
       "1018"
      ]
     },
     "execution_count": 57,
     "metadata": {},
     "output_type": "execute_result"
    }
   ],
   "source": [
    "def calculate_sum(*args): \n",
    "    print(args)\n",
    "    total = 0 \n",
    "    for num in args: \n",
    "        total += num\n",
    "        \n",
    "    return total\n",
    "\n",
    "calculate_sum(5, 3 ,1010)"
   ]
  },
  {
   "cell_type": "markdown",
   "metadata": {},
   "source": [
    "## Kwargs"
   ]
  },
  {
   "cell_type": "code",
   "execution_count": 69,
   "metadata": {},
   "outputs": [
    {
     "name": "stdout",
     "output_type": "stream",
     "text": [
      "{'name': 'Alice', 'age': 30, 'email': 'alice@example.com', 'phone': None, 'address': None}\n"
     ]
    }
   ],
   "source": [
    "def create_profile(name, age, email=None, phone=None, address=None):\n",
    "    profile = {\n",
    "        \"name\": name,\n",
    "        \"age\": age,\n",
    "        \"email\": email,\n",
    "        \"phone\": phone,\n",
    "        \"address\": address,\n",
    "    }\n",
    "    return profile\n",
    "print(create_profile(\"Alice\", 30, email=\"alice@example.com\"))\n"
   ]
  },
  {
   "cell_type": "code",
   "execution_count": 70,
   "metadata": {},
   "outputs": [
    {
     "name": "stdout",
     "output_type": "stream",
     "text": [
      "{'email': 'alice@example.com'}\n",
      "{'name': 'Alice', 'age': 30, 'email': 'alice@example.com'}\n"
     ]
    }
   ],
   "source": [
    "def create_profile(name , age , **kwargs): \n",
    "    profile = {\n",
    "        \"name\": name,\n",
    "        \"age\": age,\n",
    "    }\n",
    "    print(kwargs)\n",
    "    profile.update(kwargs)  # Update profile with additional keyword arguments\n",
    "    \n",
    "    return profile\n",
    "\n",
    "print(create_profile(\"Alice\", 30, email=\"alice@example.com\"))\n",
    "\n"
   ]
  },
  {
   "cell_type": "code",
   "execution_count": 71,
   "metadata": {},
   "outputs": [
    {
     "name": "stdout",
     "output_type": "stream",
     "text": [
      "{'email': 'alice@example.com'}\n",
      "{'name': 'Alice', 'age': 30, 'email': 'alice@example.com'}\n"
     ]
    }
   ],
   "source": [
    "print(create_profile(\"Alice\", 30, email=\"alice@example.com\"))\n"
   ]
  },
  {
   "cell_type": "code",
   "execution_count": 72,
   "metadata": {},
   "outputs": [
    {
     "name": "stdout",
     "output_type": "stream",
     "text": [
      "{'email': 'alice@example.com', 'phone': '0873456789', 'location': 'London', 'gender': 'female'}\n",
      "{'name': 'Alice', 'age': 30, 'email': 'alice@example.com', 'phone': '0873456789', 'location': 'London', 'gender': 'female'}\n"
     ]
    }
   ],
   "source": [
    "print(create_profile(name = 'Alice' , age = 30, email=\"alice@example.com\" , phone = \"0873456789\" , location = \"London\" , gender = \"female\"))"
   ]
  },
  {
   "cell_type": "markdown",
   "metadata": {},
   "source": [
    "# Lambda Functions\n",
    "\n",
    "* Anonymous Functions  \n",
    "* One-liners (defined without a name) \n"
   ]
  },
  {
   "cell_type": "code",
   "execution_count": null,
   "metadata": {},
   "outputs": [],
   "source": [
    "def calculate_sum(*args): \n",
    "    print(args)\n",
    "    total = 0 \n",
    "    for num in args: \n",
    "        total += num\n",
    "    return total\n",
    "\n",
    "calculate_sum(5, 3 ,1010)"
   ]
  },
  {
   "cell_type": "code",
   "execution_count": null,
   "metadata": {},
   "outputs": [],
   "source": [
    "# Structure of a lambda function \n",
    "# lambda --> keyword e.g def \n",
    "# student --> parameter\n",
    "# : # student[1] --> expression to evaluate"
   ]
  },
  {
   "cell_type": "markdown",
   "metadata": {},
   "source": [
    "`sorted()`\n",
    "\n",
    "* It does not modify the original iterable. it returns a new iterable. --> list \n",
    "* it works on any iterable (set or tuple or list) , but it always returns a LIST !!! "
   ]
  },
  {
   "cell_type": "code",
   "execution_count": 79,
   "metadata": {},
   "outputs": [
    {
     "name": "stdout",
     "output_type": "stream",
     "text": [
      "[('Bob', 90), ('Alice', 85), ('Charlie', 78)]\n"
     ]
    }
   ],
   "source": [
    "# Lambda functions with sorting\n",
    "students = [(\"Alice\", 85), (\"Bob\", 90), (\"Charlie\", 78)]\n",
    "\n",
    "# sorted\n",
    "students_sorted = sorted(students, key=lambda student: student[1], reverse=True) # sorted returns a new list\n",
    "print(students_sorted)"
   ]
  },
  {
   "cell_type": "code",
   "execution_count": 76,
   "metadata": {},
   "outputs": [
    {
     "name": "stdout",
     "output_type": "stream",
     "text": [
      "85\n",
      "90\n",
      "78\n"
     ]
    }
   ],
   "source": [
    "for student in students: \n",
    "    print(student[1])"
   ]
  },
  {
   "cell_type": "code",
   "execution_count": 81,
   "metadata": {},
   "outputs": [
    {
     "data": {
      "text/plain": [
       "[1, 4, 9, 16, 25]"
      ]
     },
     "execution_count": 81,
     "metadata": {},
     "output_type": "execute_result"
    }
   ],
   "source": [
    "# Map \n",
    "\n",
    "numbers = [1,2,3,4,5] # iterable --> a sequence of values or collection of values\n",
    "list(map(lambda x: x **2 , numbers)) # map applies the lambda function to each element in the iterable\n",
    "\n",
    "# return an iterator --> map(lambda x: x **2 , numbers)\n",
    "# wrap the iterator in a list to get a list of results"
   ]
  },
  {
   "cell_type": "code",
   "execution_count": 82,
   "metadata": {},
   "outputs": [
    {
     "name": "stdout",
     "output_type": "stream",
     "text": [
      "[1, 4, 9, 16, 25]\n"
     ]
    }
   ],
   "source": [
    "def sqaure_root_list(numbers):\n",
    "    square = []\n",
    "    for number in numbers:\n",
    "        square.append(number ** 2)\n",
    "    return square\n",
    "print(sqaure_root_list(numbers))"
   ]
  },
  {
   "cell_type": "code",
   "execution_count": 83,
   "metadata": {},
   "outputs": [
    {
     "data": {
      "text/plain": [
       "[1, 2, 3, 4, 5]"
      ]
     },
     "execution_count": 83,
     "metadata": {},
     "output_type": "execute_result"
    }
   ],
   "source": [
    "numbers\n"
   ]
  },
  {
   "cell_type": "code",
   "execution_count": 87,
   "metadata": {},
   "outputs": [],
   "source": [
    "name = \"Thibedi\""
   ]
  },
  {
   "cell_type": "code",
   "execution_count": 91,
   "metadata": {},
   "outputs": [
    {
     "name": "stdout",
     "output_type": "stream",
     "text": [
      "2\n"
     ]
    }
   ],
   "source": [
    "i_in_name = len(list(filter(lambda x: \"i\" in x, name)))\n",
    "print(i_in_name)"
   ]
  },
  {
   "cell_type": "markdown",
   "metadata": {},
   "source": [
    "# Classes"
   ]
  },
  {
   "cell_type": "code",
   "execution_count": 92,
   "metadata": {},
   "outputs": [
    {
     "name": "stdout",
     "output_type": "stream",
     "text": [
      "True\n"
     ]
    }
   ],
   "source": [
    "class MyClass:\n",
    "    pass \n",
    "\n",
    "print(issubclass(MyClass, object))  # Check if MyClass is a subclass of object"
   ]
  },
  {
   "cell_type": "code",
   "execution_count": 93,
   "metadata": {},
   "outputs": [
    {
     "name": "stdout",
     "output_type": "stream",
     "text": [
      "(<class '__main__.MyClass'>, <class 'object'>)\n"
     ]
    }
   ],
   "source": [
    "print(MyClass.__mro__)"
   ]
  },
  {
   "cell_type": "code",
   "execution_count": 94,
   "metadata": {},
   "outputs": [
    {
     "data": {
      "text/plain": [
       "(object,)"
      ]
     },
     "execution_count": 94,
     "metadata": {},
     "output_type": "execute_result"
    }
   ],
   "source": [
    "MyClass.__bases__  # Get the base classes of MyClass\n"
   ]
  },
  {
   "cell_type": "code",
   "execution_count": 95,
   "metadata": {},
   "outputs": [
    {
     "name": "stdout",
     "output_type": "stream",
     "text": [
      "<class 'object'>\n"
     ]
    }
   ],
   "source": [
    "print(object)"
   ]
  },
  {
   "cell_type": "code",
   "execution_count": 96,
   "metadata": {},
   "outputs": [
    {
     "name": "stdout",
     "output_type": "stream",
     "text": [
      "<class 'type'>\n"
     ]
    }
   ],
   "source": [
    "print(type(object))"
   ]
  },
  {
   "cell_type": "code",
   "execution_count": 97,
   "metadata": {},
   "outputs": [
    {
     "data": {
      "text/plain": [
       "()"
      ]
     },
     "execution_count": 97,
     "metadata": {},
     "output_type": "execute_result"
    }
   ],
   "source": [
    "object.__bases__  # Get the base classes of object"
   ]
  },
  {
   "cell_type": "code",
   "execution_count": null,
   "metadata": {},
   "outputs": [],
   "source": [
    "# Basic class defintion \n",
    "\n",
    "class Person: \n",
    "    def __init__(self, name , age , eating_speed): \n",
    "        # These are attributes of the class\n",
    "        self.name = name\n",
    "        self.age = age\n",
    "        self.eating_speed = eating_speed\n",
    "        self.health = 90  # Default health attribute\n",
    "    \n",
    "    # These are methods of the class\n",
    "    def greet(self):\n",
    "        return f\"Hello, my name is {self.name} and I am {self.age} years old.\"\n",
    "    \n",
    "    def birthday(self):\n",
    "        self.age += 1\n",
    "        return f\"{self.name} is now {self.age} years old.\"\n",
    "    \n",
    "    def eating(self):\n",
    "        return f\"{self.name} eats at a {self.eating_speed} speed.\"\n",
    "    \n",
    "    def upgrade_health(self, upgrade_health = None):\n",
    "        if upgrade_health:\n",
    "            self.health = self.health + upgrade_health\n",
    "        return f\"{self.name} has a default health of {self.health}.\"\n",
    "    \n",
    "alice = Person(\"Alice\", 30 , 'slow')\n",
    "bob = Person(\"Bob\", 25 , 'really fast')\n",
    "\n"
   ]
  },
  {
   "cell_type": "code",
   "execution_count": 154,
   "metadata": {},
   "outputs": [
    {
     "data": {
      "text/plain": [
       "'Bob is now 27 years old.'"
      ]
     },
     "execution_count": 154,
     "metadata": {},
     "output_type": "execute_result"
    }
   ],
   "source": [
    "bob.birthday()  # Call the greet method on the bob instance"
   ]
  },
  {
   "cell_type": "code",
   "execution_count": 155,
   "metadata": {},
   "outputs": [
    {
     "data": {
      "text/plain": [
       "'Hello, my name is Bob and I am 27 years old.'"
      ]
     },
     "execution_count": 155,
     "metadata": {},
     "output_type": "execute_result"
    }
   ],
   "source": [
    "bob.greet()  # Call the greet method on the bob instance"
   ]
  },
  {
   "cell_type": "code",
   "execution_count": 119,
   "metadata": {},
   "outputs": [
    {
     "name": "stdout",
     "output_type": "stream",
     "text": [
      "90\n",
      "90\n"
     ]
    }
   ],
   "source": [
    "print(bob.health)\n",
    "print(alice.health)"
   ]
  },
  {
   "cell_type": "code",
   "execution_count": 124,
   "metadata": {},
   "outputs": [
    {
     "data": {
      "text/plain": [
       "'Alice has a default health of 140.'"
      ]
     },
     "execution_count": 124,
     "metadata": {},
     "output_type": "execute_result"
    }
   ],
   "source": [
    "alice.upgrade_health(50)"
   ]
  },
  {
   "cell_type": "code",
   "execution_count": 125,
   "metadata": {},
   "outputs": [
    {
     "name": "stdout",
     "output_type": "stream",
     "text": [
      "100\n",
      "140\n"
     ]
    }
   ],
   "source": [
    "print(bob.health)\n",
    "print(alice.health)"
   ]
  },
  {
   "cell_type": "code",
   "execution_count": 111,
   "metadata": {},
   "outputs": [
    {
     "data": {
      "text/plain": [
       "'Bob eats at a really fast speed.'"
      ]
     },
     "execution_count": 111,
     "metadata": {},
     "output_type": "execute_result"
    }
   ],
   "source": [
    "bob.eating()"
   ]
  },
  {
   "cell_type": "code",
   "execution_count": 112,
   "metadata": {},
   "outputs": [
    {
     "data": {
      "text/plain": [
       "'Alice eats at a slow speed.'"
      ]
     },
     "execution_count": 112,
     "metadata": {},
     "output_type": "execute_result"
    }
   ],
   "source": [
    "alice.eating()"
   ]
  },
  {
   "cell_type": "code",
   "execution_count": 127,
   "metadata": {},
   "outputs": [
    {
     "data": {
      "text/plain": [
       "'Hello, my name is Alice and I am 30 years old.'"
      ]
     },
     "execution_count": 127,
     "metadata": {},
     "output_type": "execute_result"
    }
   ],
   "source": [
    "alice.greet()"
   ]
  },
  {
   "cell_type": "code",
   "execution_count": 168,
   "metadata": {},
   "outputs": [
    {
     "data": {
      "text/plain": [
       "'Alice is now 31 years old.'"
      ]
     },
     "execution_count": 168,
     "metadata": {},
     "output_type": "execute_result"
    }
   ],
   "source": [
    "alice.birthday()"
   ]
  },
  {
   "cell_type": "markdown",
   "metadata": {},
   "source": [
    "## Module 4: Q2  \n",
    "\n",
    "**Question:** Design a BankAccount class with methods for deposit, withdraw, and checking balance"
   ]
  },
  {
   "cell_type": "code",
   "execution_count": 1,
   "metadata": {},
   "outputs": [],
   "source": [
    "data = {\n",
    "    \"1234567890\": {\n",
    "        \"name\": \"Thibedi Rapoo\",\n",
    "        \"account_type\": \"Savings\"\n",
    "    },\n",
    "    \"9876543210\": {\n",
    "        \"name\": \"Thabo Ndlovu\",\n",
    "        \"account_type\": \"Checking\"\n",
    "    },\n",
    "    \"1122334455\": {\n",
    "        \"name\": \"Zanele Khumalo\",\n",
    "        \"account_type\": \"Savings\"\n",
    "    },\n",
    "    \"5566778899\": {\n",
    "        \"name\": \"Lebo Dlamini\",\n",
    "        \"account_type\": \"Student\"\n",
    "    }\n",
    "}"
   ]
  },
  {
   "cell_type": "code",
   "execution_count": 18,
   "metadata": {},
   "outputs": [
    {
     "data": {
      "text/plain": [
       "{'name': 'Thibedi Rapoo', 'account_type': 'Savings'}"
      ]
     },
     "execution_count": 18,
     "metadata": {},
     "output_type": "execute_result"
    }
   ],
   "source": [
    "data[\"1234567890\"]"
   ]
  },
  {
   "cell_type": "code",
   "execution_count": 39,
   "metadata": {},
   "outputs": [],
   "source": [
    "import json \n",
    "\n",
    "\n",
    "with open(\"bank_account.json\" , \"w\") as f:\n",
    "    json.dump(data, f)"
   ]
  },
  {
   "cell_type": "code",
   "execution_count": 40,
   "metadata": {},
   "outputs": [],
   "source": [
    "def get_bank_account(file): \n",
    "    with open(file, \"r\") as f: \n",
    "        data = json.load(f)\n",
    "    return data "
   ]
  },
  {
   "cell_type": "code",
   "execution_count": 41,
   "metadata": {},
   "outputs": [
    {
     "data": {
      "text/plain": [
       "{'1234567890': {'name': 'Thibedi Rapoo', 'account_type': 'Savings'},\n",
       " '9876543210': {'name': 'Thabo Ndlovu', 'account_type': 'Checking'},\n",
       " '1122334455': {'name': 'Zanele Khumalo', 'account_type': 'Savings'},\n",
       " '5566778899': {'name': 'Lebo Dlamini', 'account_type': 'Student'}}"
      ]
     },
     "execution_count": 41,
     "metadata": {},
     "output_type": "execute_result"
    }
   ],
   "source": [
    "get_bank_account(\"bank_account.json\")"
   ]
  },
  {
   "cell_type": "code",
   "execution_count": null,
   "metadata": {},
   "outputs": [],
   "source": [
    "class BankAccount: \n",
    "    def __init__(self, account_number , account_holder): \n",
    "        self.account_number = account_number\n",
    "        self.account_holder = account_holder \n",
    "        self.balance = 0\n",
    "    \n",
    "    def deposit(self, amount): \n",
    "        is_verified = self.securtiy_check()\n",
    "        if not is_verified:\n",
    "            return \"Can not deposit\"\n",
    "        \n",
    "        if amount > 0: \n",
    "            self.balance += amount\n",
    "            return f\"Deposited R{amount}. New balance: R{self.balance}\"\n",
    "        \n",
    "        return \"Depost amount must be positive\"\n",
    "    \n",
    "    def withdraw(self, amount): \n",
    "        is_verified = self.securtiy_check()\n",
    "        if not is_verified:\n",
    "            return \"Can not withdraw\"   \n",
    "        \n",
    "        # Do they want to with draw an amount greater than 0\n",
    "        if amount > 0: \n",
    "            # Can they withdraw the amount that they want to ? \n",
    "            if amount < self.balance: \n",
    "                self.balance -= amount \n",
    "                return f\"Withdrew R{amount}. New balance: R{self.balance}\"\n",
    "            return \"Insufficient Funds\" \n",
    "        return \"Withdrawal amount must be positive\"\n",
    "                  \n",
    "    def check_balance(self): \n",
    "        is_verified = self.securtiy_check()\n",
    "        if is_verified: \n",
    "            return f\"Account Balance: R{self.balance}\"\n",
    "    \n",
    "    def securtiy_check(self): \n",
    "        data = get_bank_account(\"bank_account.json\")\n",
    "        account_details = data.get(self.account_number)\n",
    "        if account_details is None: \n",
    "            print(\"Declined. User details does not match\")\n",
    "            return False\n",
    "        \n",
    "        if account_details['name'] == self.account_holder: \n",
    "            return True\n",
    "        else: \n",
    "            return False\n",
    "    \n",
    "\n",
    "user = BankAccount(\"1234567890\", \"Thibedi Rapoo\")     "
   ]
  },
  {
   "cell_type": "code",
   "execution_count": null,
   "metadata": {},
   "outputs": [
    {
     "name": "stdout",
     "output_type": "stream",
     "text": [
      "Account Balance: R0\n"
     ]
    }
   ],
   "source": [
    "print(user.check_balance())\n",
    "print(user.deposit(amount = 20004))\n",
    "print(user.withdraw(amount = 130))\n",
    "print(user.withdraw(amount = 1860))"
   ]
  },
  {
   "cell_type": "markdown",
   "metadata": {},
   "source": [
    "# Module 6"
   ]
  },
  {
   "cell_type": "markdown",
   "metadata": {},
   "source": [
    "## Class vs Instance Varibale "
   ]
  },
  {
   "cell_type": "code",
   "execution_count": null,
   "metadata": {},
   "outputs": [],
   "source": [
    "class BankAccount: \n",
    "    \n",
    "    # Class variable\n",
    "    bank_name = \"FBN\"\n",
    "    \n",
    "    def __init__(self, account_number , account_holder): \n",
    "        # Instance variable\n",
    "        self.account_number = account_number\n",
    "        self.account_holder = account_holder \n",
    "    \n"
   ]
  },
  {
   "cell_type": "code",
   "execution_count": 56,
   "metadata": {},
   "outputs": [],
   "source": [
    "user_1 = BankAccount('223422' , \"Tsepo\")\n",
    "user_2 = BankAccount(\"334523\" , \"Kamo\")"
   ]
  },
  {
   "cell_type": "code",
   "execution_count": 53,
   "metadata": {},
   "outputs": [
    {
     "data": {
      "text/plain": [
       "'223422'"
      ]
     },
     "execution_count": 53,
     "metadata": {},
     "output_type": "execute_result"
    }
   ],
   "source": [
    "user_1.account_number"
   ]
  },
  {
   "cell_type": "code",
   "execution_count": 57,
   "metadata": {},
   "outputs": [
    {
     "data": {
      "text/plain": [
       "'FBN'"
      ]
     },
     "execution_count": 57,
     "metadata": {},
     "output_type": "execute_result"
    }
   ],
   "source": [
    "user_1.bank_name"
   ]
  },
  {
   "cell_type": "code",
   "execution_count": 54,
   "metadata": {},
   "outputs": [
    {
     "data": {
      "text/plain": [
       "'334523'"
      ]
     },
     "execution_count": 54,
     "metadata": {},
     "output_type": "execute_result"
    }
   ],
   "source": [
    "user_2.account_number"
   ]
  },
  {
   "cell_type": "code",
   "execution_count": 58,
   "metadata": {},
   "outputs": [
    {
     "data": {
      "text/plain": [
       "'FBN'"
      ]
     },
     "execution_count": 58,
     "metadata": {},
     "output_type": "execute_result"
    }
   ],
   "source": [
    "user_2.bank_name"
   ]
  },
  {
   "cell_type": "markdown",
   "metadata": {},
   "source": [
    "## Instance vs class vs static methods "
   ]
  },
  {
   "cell_type": "code",
   "execution_count": 80,
   "metadata": {},
   "outputs": [],
   "source": [
    "class BankAccount: \n",
    "    \n",
    "    # Class variable\n",
    "    bank_name = \"FBN\"\n",
    "    interest_rate = 0.05\n",
    "    \n",
    "    def __init__(self, account_number , account_holder): \n",
    "        # Instance variable\n",
    "        self.account_number = account_number\n",
    "        self.account_holder = account_holder \n",
    "        \n",
    "    # Instance method (operates on instance data) --> self\n",
    "    def check_balance(self): \n",
    "        return f\"Account Balance: R0\"  \n",
    "    \n",
    "    # CLass method  --> operates on class-level-data --> cls\n",
    "    @classmethod \n",
    "    def set_interest_rate(cls, new_interest_rate): \n",
    "        cls.interest_rate = new_interest_rate \n",
    "        \n",
    "    # Static method --> independent method that do not access instance or class data \n",
    "    @staticmethod\n",
    "    def valdiate_account_number(number): \n",
    "        return len(number) == 6 and number.isdigit()"
   ]
  },
  {
   "cell_type": "code",
   "execution_count": 81,
   "metadata": {},
   "outputs": [
    {
     "data": {
      "text/plain": [
       "'Account Balance: R0'"
      ]
     },
     "execution_count": 81,
     "metadata": {},
     "output_type": "execute_result"
    }
   ],
   "source": [
    "acc = BankAccount(\"183847224\" , \"Jack\")\n",
    "acc_1 = BankAccount('22344322' , 'Bob')\n",
    "acc_3 = BankAccount('23432342424',\"Jill\")\n",
    "# Instance method \n",
    "acc.check_balance()"
   ]
  },
  {
   "cell_type": "code",
   "execution_count": 88,
   "metadata": {},
   "outputs": [
    {
     "name": "stdout",
     "output_type": "stream",
     "text": [
      "0.11\n",
      "0.11\n",
      "0.11\n"
     ]
    }
   ],
   "source": [
    "print(acc.interest_rate)\n",
    "print(acc_1.interest_rate)\n",
    "print(acc_3.interest_rate)"
   ]
  },
  {
   "cell_type": "code",
   "execution_count": 87,
   "metadata": {},
   "outputs": [],
   "source": [
    "#class method \n",
    "BankAccount.set_interest_rate(0.11)"
   ]
  },
  {
   "cell_type": "code",
   "execution_count": null,
   "metadata": {},
   "outputs": [
    {
     "data": {
      "text/plain": [
       "False"
      ]
     },
     "execution_count": 92,
     "metadata": {},
     "output_type": "execute_result"
    }
   ],
   "source": [
    "# Static \n",
    "BankAccount.valdiate_account_number(\"6448321\")"
   ]
  },
  {
   "cell_type": "markdown",
   "metadata": {},
   "source": [
    "# Module 7"
   ]
  },
  {
   "cell_type": "markdown",
   "metadata": {},
   "source": [
    "## Access Modifiers"
   ]
  },
  {
   "cell_type": "code",
   "execution_count": 110,
   "metadata": {},
   "outputs": [],
   "source": [
    "class BankAccount: \n",
    "    def __init__(self, account_number , account_holder): \n",
    "        self.account_number = account_number # public\n",
    "        self._account_holder = account_holder # protected \n",
    "        self.__balance = 0 #private attribute\n",
    "    \n",
    "    def deposit(self, amount): \n",
    "        is_verified = self.securtiy_check()\n",
    "        if not is_verified:\n",
    "            return \"Can not deposit\"\n",
    "        \n",
    "        if amount > 0: \n",
    "            self.balance += amount\n",
    "            return f\"Deposited R{amount}. New balance: R{self.balance}\"\n",
    "        \n",
    "        return \"Depost amount must be positive\"\n",
    "    \n",
    "    def withdraw(self, amount): \n",
    "        is_verified = self.securtiy_check()\n",
    "        if not is_verified:\n",
    "            return \"Can not withdraw\"   \n",
    "        \n",
    "        # Do they want to with draw an amount greater than 0\n",
    "        if amount > 0: \n",
    "            # Can they withdraw the amount that they want to ? \n",
    "            if amount < self.balance: \n",
    "                self.balance -= amount \n",
    "                return f\"Withdrew R{amount}. New balance: R{self.balance}\"\n",
    "            return \"Insufficient Funds\" \n",
    "        return \"Withdrawal amount must be positive\"\n",
    "                  \n",
    "    def check_balance(self): \n",
    "        is_verified = self.securtiy_check()\n",
    "        if is_verified: \n",
    "            return f\"Account Balance: R{self.__balance}\"\n",
    "    \n",
    "    def securtiy_check(self): \n",
    "        data = get_bank_account(\"bank_account.json\")\n",
    "        account_details = data.get(self.account_number)\n",
    "        if account_details is None: \n",
    "            print(\"Declined. User details does not match\")\n",
    "            return False\n",
    "        \n",
    "        if account_details['name'] == self.account_holder: \n",
    "            return True\n",
    "        else: \n",
    "            return False\n",
    "    \n",
    "\n",
    "user = BankAccount(\"1234567890\", \"Thibedi Rapoo\")     "
   ]
  },
  {
   "cell_type": "code",
   "execution_count": 103,
   "metadata": {},
   "outputs": [
    {
     "data": {
      "text/plain": [
       "'123456'"
      ]
     },
     "execution_count": 103,
     "metadata": {},
     "output_type": "execute_result"
    }
   ],
   "source": [
    "acc = BankAccount(\"123456\", \"Alice\")\n",
    "\n",
    "# public \n",
    "acc.account_number"
   ]
  },
  {
   "cell_type": "code",
   "execution_count": null,
   "metadata": {},
   "outputs": [
    {
     "data": {
      "text/plain": [
       "'Alice'"
      ]
     },
     "execution_count": 112,
     "metadata": {},
     "output_type": "execute_result"
    }
   ],
   "source": [
    "# protected --> BY CONVENTION THIS SHOULD NOT WORK !!!\n",
    "acc._account_holder"
   ]
  },
  {
   "cell_type": "code",
   "execution_count": null,
   "metadata": {},
   "outputs": [
    {
     "ename": "SyntaxError",
     "evalue": "invalid syntax (3716076194.py, line 1)",
     "output_type": "error",
     "traceback": [
      "\u001b[0;36m  Cell \u001b[0;32mIn[115], line 1\u001b[0;36m\u001b[0m\n\u001b[0;31m    int T = 3\u001b[0m\n\u001b[0m        ^\u001b[0m\n\u001b[0;31mSyntaxError\u001b[0m\u001b[0;31m:\u001b[0m invalid syntax\n"
     ]
    }
   ],
   "source": []
  },
  {
   "cell_type": "code",
   "execution_count": null,
   "metadata": {},
   "outputs": [],
   "source": []
  },
  {
   "cell_type": "code",
   "execution_count": 109,
   "metadata": {},
   "outputs": [
    {
     "data": {
      "text/plain": [
       "80"
      ]
     },
     "execution_count": 109,
     "metadata": {},
     "output_type": "execute_result"
    }
   ],
   "source": [
    "acc.__balance"
   ]
  },
  {
   "cell_type": "code",
   "execution_count": null,
   "metadata": {},
   "outputs": [
    {
     "data": {
      "text/plain": [
       "0"
      ]
     },
     "execution_count": 111,
     "metadata": {},
     "output_type": "execute_result"
    }
   ],
   "source": [
    "# NOT RECOMMENDED \n",
    "acc._BankAccount__balance"
   ]
  },
  {
   "cell_type": "markdown",
   "metadata": {},
   "source": [
    "# Module 9"
   ]
  },
  {
   "cell_type": "markdown",
   "metadata": {},
   "source": [
    "## Special Method"
   ]
  },
  {
   "cell_type": "code",
   "execution_count": null,
   "metadata": {},
   "outputs": [
    {
     "name": "stdout",
     "output_type": "stream",
     "text": [
      "User: Here is an example of Vector(3 , 6)\n"
     ]
    }
   ],
   "source": [
    "class Vector: \n",
    "    def __init__(self, x , y): \n",
    "        self.x = x\n",
    "        self.y = y\n",
    "        \n",
    "    # String representation for users \n",
    "    def __str__(self): \n",
    "        return f\"User: Here is an example of Vector({self.x} , {self.y})\"\n",
    "    \n",
    "    # String representation for developers \n",
    "    def __repr__(self):\n",
    "        return f\"Here is an example of Vector({self.x} , {self.y})\"\n",
    "    \n",
    "    def __add__(self, other): \n",
    "        return Vector(self.x + other.x, self.y + other.y)\n",
    "    \n",
    "    def __sub__(self, other): \n",
    "        return Vector(self.x - other.x, self.y - other.y)\n",
    "    \n",
    "    def __mul__(self, other): \n",
    "        if isinstance(other, Vector):\n",
    "            return Vector(self.x * other.x, self.y * other.y)\n",
    "        return Vector(self.x * other, self.y * other)\n",
    " \n",
    "    \n",
    "    def __eq__(self, other): \n",
    "        return Vector(self.x == other.x, self.y == other.y)\n",
    "    \n",
    "    \n",
    "        \n",
    "\n",
    "    \n",
    "v1 = Vector(1,2)\n",
    "v2 = Vector(2,4)\n",
    "# print(v1 + v2)\n",
    "# print(v1 - v2)\n",
    "print(v1 * v2)\n",
    "\n",
    " "
   ]
  }
 ],
 "metadata": {
  "kernelspec": {
   "display_name": "base",
   "language": "python",
   "name": "python3"
  },
  "language_info": {
   "codemirror_mode": {
    "name": "ipython",
    "version": 3
   },
   "file_extension": ".py",
   "mimetype": "text/x-python",
   "name": "python",
   "nbconvert_exporter": "python",
   "pygments_lexer": "ipython3",
   "version": "3.12.2"
  }
 },
 "nbformat": 4,
 "nbformat_minor": 2
}
