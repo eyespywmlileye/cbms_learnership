{
 "cells": [
  {
   "cell_type": "markdown",
   "metadata": {},
   "source": [
    "## Data Types \n",
    "---"
   ]
  },
  {
   "cell_type": "code",
   "execution_count": 83,
   "metadata": {},
   "outputs": [
    {
     "data": {
      "text/plain": [
       "1"
      ]
     },
     "execution_count": 83,
     "metadata": {},
     "output_type": "execute_result"
    }
   ],
   "source": [
    "int(True)"
   ]
  },
  {
   "cell_type": "code",
   "execution_count": 94,
   "metadata": {},
   "outputs": [],
   "source": [
    "import time"
   ]
  },
  {
   "cell_type": "code",
   "execution_count": 227,
   "metadata": {},
   "outputs": [
    {
     "data": {
      "text/plain": [
       "['aeiou']"
      ]
     },
     "execution_count": 227,
     "metadata": {},
     "output_type": "execute_result"
    }
   ],
   "source": [
    "x = 'aeiou'.split()\n",
    "x"
   ]
  },
  {
   "cell_type": "code",
   "execution_count": 228,
   "metadata": {},
   "outputs": [],
   "source": [
    "x = ['a' , 'e' , 'i' , 'e' , 'o' , 'u']"
   ]
  },
  {
   "cell_type": "code",
   "execution_count": null,
   "metadata": {},
   "outputs": [
    {
     "data": {
      "text/plain": [
       "[1, 3]"
      ]
     },
     "execution_count": 235,
     "metadata": {},
     "output_type": "execute_result"
    }
   ],
   "source": [
    "list(range(0, 5, 2))\n"
   ]
  },
  {
   "cell_type": "code",
   "execution_count": 263,
   "metadata": {},
   "outputs": [],
   "source": [
    "counter = 0 "
   ]
  },
  {
   "cell_type": "code",
   "execution_count": null,
   "metadata": {},
   "outputs": [
    {
     "name": "stdout",
     "output_type": "stream",
     "text": [
      "I'm local \n"
     ]
    },
    {
     "data": {
      "text/plain": [
       "44"
      ]
     },
     "execution_count": 307,
     "metadata": {},
     "output_type": "execute_result"
    }
   ],
   "source": [
    "def admit_student():\n",
    "    global counter \n",
    "    \n",
    "    local_var = \"I'm local \"\n",
    "    counter +=1 \n",
    "    print(local_var) # Works fine\n",
    "    \n",
    "    return counter\n",
    "    # return local_var\n",
    "\n",
    "admit_student()\n"
   ]
  },
  {
   "cell_type": "markdown",
   "metadata": {},
   "source": [
    "# String Manipulation"
   ]
  },
  {
   "cell_type": "code",
   "execution_count": 310,
   "metadata": {},
   "outputs": [
    {
     "name": "stdout",
     "output_type": "stream",
     "text": [
      "PYTHON PROGRAMMING\n"
     ]
    }
   ],
   "source": [
    "text = \"python programming\"\n",
    "\n",
    "# Case methods \n",
    "upper_text = text.upper()\n",
    "print(upper_text)"
   ]
  },
  {
   "cell_type": "code",
   "execution_count": 311,
   "metadata": {},
   "outputs": [
    {
     "data": {
      "text/plain": [
       "'python programming'"
      ]
     },
     "execution_count": 311,
     "metadata": {},
     "output_type": "execute_result"
    }
   ],
   "source": [
    "lower_text = text.lower()\n",
    "lower_text"
   ]
  },
  {
   "cell_type": "code",
   "execution_count": 312,
   "metadata": {},
   "outputs": [
    {
     "data": {
      "text/plain": [
       "'Python Programming'"
      ]
     },
     "execution_count": 312,
     "metadata": {},
     "output_type": "execute_result"
    }
   ],
   "source": [
    "title_text = text.title()\n",
    "title_text"
   ]
  },
  {
   "cell_type": "code",
   "execution_count": 328,
   "metadata": {},
   "outputs": [
    {
     "data": {
      "text/plain": [
       "9"
      ]
     },
     "execution_count": 328,
     "metadata": {},
     "output_type": "execute_result"
    }
   ],
   "source": [
    "# Finding and counting \n",
    "position = text.find(\"pro\")\n",
    "position + len('pro')-1"
   ]
  },
  {
   "cell_type": "code",
   "execution_count": null,
   "metadata": {},
   "outputs": [
    {
     "data": {
      "text/plain": [
       "'pro'"
      ]
     },
     "execution_count": 331,
     "metadata": {},
     "output_type": "execute_result"
    }
   ],
   "source": [
    "text[position : position + len('pro')]"
   ]
  },
  {
   "cell_type": "code",
   "execution_count": 322,
   "metadata": {},
   "outputs": [
    {
     "name": "stdout",
     "output_type": "stream",
     "text": [
      "pos 0 - p: 112\n",
      "pos 1 - y: 121\n",
      "pos 2 - t: 116\n",
      "pos 3 - h: 104\n",
      "pos 4 - o: 111\n",
      "pos 5 - n: 110\n",
      "pos 6 -  : 32\n",
      "pos 7 - p: 112\n",
      "pos 8 - r: 114\n",
      "pos 9 - o: 111\n",
      "pos 10 - g: 103\n",
      "pos 11 - r: 114\n",
      "pos 12 - a: 97\n",
      "pos 13 - m: 109\n",
      "pos 14 - m: 109\n",
      "pos 15 - i: 105\n",
      "pos 16 - n: 110\n",
      "pos 17 - g: 103\n"
     ]
    }
   ],
   "source": [
    "for idx , i in enumerate(text): \n",
    "    print(f\"pos {idx} - {i}: {ord(i)}\")"
   ]
  },
  {
   "cell_type": "code",
   "execution_count": 339,
   "metadata": {},
   "outputs": [
    {
     "name": "stdout",
     "output_type": "stream",
     "text": [
      "python programming\n"
     ]
    },
    {
     "data": {
      "text/plain": [
       "'javascript programming'"
      ]
     },
     "execution_count": 339,
     "metadata": {},
     "output_type": "execute_result"
    }
   ],
   "source": [
    "# replace \n",
    "print(text)\n",
    "text.replace('python', 'javascript')"
   ]
  },
  {
   "cell_type": "code",
   "execution_count": 340,
   "metadata": {},
   "outputs": [
    {
     "data": {
      "text/plain": [
       "2"
      ]
     },
     "execution_count": 340,
     "metadata": {},
     "output_type": "execute_result"
    }
   ],
   "source": [
    "# count \n",
    "count = text.count('p')\n",
    "count"
   ]
  },
  {
   "cell_type": "code",
   "execution_count": 341,
   "metadata": {},
   "outputs": [
    {
     "data": {
      "text/plain": [
       "True"
      ]
     },
     "execution_count": 341,
     "metadata": {},
     "output_type": "execute_result"
    }
   ],
   "source": [
    "# Checking content\n",
    "starts = text.startswith('py')\n",
    "starts"
   ]
  },
  {
   "cell_type": "code",
   "execution_count": 344,
   "metadata": {},
   "outputs": [
    {
     "data": {
      "text/plain": [
       "True"
      ]
     },
     "execution_count": 344,
     "metadata": {},
     "output_type": "execute_result"
    }
   ],
   "source": [
    "end = text.endswith('ing')\n",
    "end"
   ]
  },
  {
   "cell_type": "code",
   "execution_count": 346,
   "metadata": {},
   "outputs": [
    {
     "data": {
      "text/plain": [
       "True"
      ]
     },
     "execution_count": 346,
     "metadata": {},
     "output_type": "execute_result"
    }
   ],
   "source": [
    "contains_o = \"o\" in text\n",
    "contains_o"
   ]
  },
  {
   "cell_type": "code",
   "execution_count": 352,
   "metadata": {},
   "outputs": [
    {
     "data": {
      "text/plain": [
       "['python', 'programming']"
      ]
     },
     "execution_count": 352,
     "metadata": {},
     "output_type": "execute_result"
    }
   ],
   "source": [
    "#Splitting \n",
    "\n",
    "words = text.split(\" \")\n",
    "words\n"
   ]
  },
  {
   "cell_type": "code",
   "execution_count": 353,
   "metadata": {},
   "outputs": [
    {
     "data": {
      "text/plain": [
       "'python, programming'"
      ]
     },
     "execution_count": 353,
     "metadata": {},
     "output_type": "execute_result"
    }
   ],
   "source": [
    "\", \".join(words)"
   ]
  },
  {
   "cell_type": "code",
   "execution_count": 358,
   "metadata": {},
   "outputs": [
    {
     "data": {
      "text/plain": [
       "'hELLO'"
      ]
     },
     "execution_count": 358,
     "metadata": {},
     "output_type": "execute_result"
    }
   ],
   "source": [
    "spaced_text = \"  hELLO   \"\n",
    "spaced_text.strip()"
   ]
  },
  {
   "cell_type": "code",
   "execution_count": 362,
   "metadata": {},
   "outputs": [
    {
     "data": {
      "text/plain": [
       "'Hi my name is Thibedi. I love coding I am from jhb'"
      ]
     },
     "execution_count": 362,
     "metadata": {},
     "output_type": "execute_result"
    }
   ],
   "source": [
    "name = \"Thibedi\"\n",
    "location = 'jhb'\n",
    "\n",
    "text = \"Hi my name is \" +  name + \". I love coding\" + \" I am from \" + location\n",
    "text"
   ]
  },
  {
   "cell_type": "code",
   "execution_count": 371,
   "metadata": {},
   "outputs": [
    {
     "data": {
      "text/plain": [
       "'My name is Thibedi. I love coding I am from jhb'"
      ]
     },
     "execution_count": 371,
     "metadata": {},
     "output_type": "execute_result"
    }
   ],
   "source": [
    "# %%%%%%%%%% --> old way\n",
    "message_1 = \"My name is %s. I love coding I am from %s\" % (name , location)\n",
    "message_1"
   ]
  },
  {
   "cell_type": "code",
   "execution_count": 372,
   "metadata": {},
   "outputs": [
    {
     "data": {
      "text/plain": [
       "'My name is Thibedi. I love coding I am from jhb'"
      ]
     },
     "execution_count": 372,
     "metadata": {},
     "output_type": "execute_result"
    }
   ],
   "source": [
    "message_2 = \"My name is {}. I love coding I am from {}\".format(name , location)\n",
    "message_2"
   ]
  },
  {
   "cell_type": "code",
   "execution_count": 375,
   "metadata": {},
   "outputs": [
    {
     "data": {
      "text/plain": [
       "'My name is Thibedi. I love coding I am from jhb, i have been coding since 8'"
      ]
     },
     "execution_count": 375,
     "metadata": {},
     "output_type": "execute_result"
    }
   ],
   "source": [
    "message_3 = f\"My name is {name}. I love coding I am from {location}, i have been coding since {1+2*3+1}\"\n",
    "message_3"
   ]
  },
  {
   "cell_type": "code",
   "execution_count": null,
   "metadata": {},
   "outputs": [
    {
     "name": "stdout",
     "output_type": "stream",
     "text": [
      "Hello World\n",
      "*****\n"
     ]
    }
   ],
   "source": [
    "# String concatenation \n",
    "first = \"Hello\"\n",
    "second = \"World\"\n",
    "greeting = first + \" \" + second # \"Hello World\"\n",
    "print(greeting)\n",
    "\n",
    "\n",
    "# String repetition\n",
    "stars = \"*\" * 5 # \"*****\"\n",
    "print(stars)\n",
    "\n",
    "# String indexing and slicing\n",
    "text = \"Python\"\n",
    "first_char = text[0] # \"P\"\n",
    "last_char = text[-1] # \"n\"\n",
    "substring = text[1:4] # \"yth\"\n",
    "reversed_text = text[::-1] # \"nohtyP\""
   ]
  },
  {
   "cell_type": "code",
   "execution_count": 380,
   "metadata": {},
   "outputs": [
    {
     "data": {
      "text/plain": [
       "'nohtyP'"
      ]
     },
     "execution_count": 380,
     "metadata": {},
     "output_type": "execute_result"
    }
   ],
   "source": [
    "reversed_text = text[::-1] # \"nohtyP\"\n",
    "reversed_text"
   ]
  },
  {
   "cell_type": "markdown",
   "metadata": {},
   "source": [
    "List comprehensions "
   ]
  },
  {
   "cell_type": "code",
   "execution_count": 385,
   "metadata": {},
   "outputs": [
    {
     "data": {
      "text/plain": [
       "[4, 16]"
      ]
     },
     "execution_count": 385,
     "metadata": {},
     "output_type": "execute_result"
    }
   ],
   "source": [
    "# Traditional way\n",
    "squares = []\n",
    "for i in range(1, 6):\n",
    "    if i%2 == 0:\n",
    "        squares.append(i**2)\n",
    "squares"
   ]
  },
  {
   "cell_type": "code",
   "execution_count": 386,
   "metadata": {},
   "outputs": [
    {
     "data": {
      "text/plain": [
       "[4, 16]"
      ]
     },
     "execution_count": 386,
     "metadata": {},
     "output_type": "execute_result"
    }
   ],
   "source": [
    "squares = [i**2 for i in range(1,6) if i%2 == 0]\n",
    "squares"
   ]
  },
  {
   "cell_type": "markdown",
   "metadata": {},
   "source": [
    "# Functions "
   ]
  },
  {
   "cell_type": "code",
   "execution_count": 397,
   "metadata": {},
   "outputs": [
    {
     "name": "stdout",
     "output_type": "stream",
     "text": [
      "***************** \n",
      "Good morning: Thibedi 😎\n",
      "***************** \n",
      "Good morning: Thibedi 🔥\n",
      "Thibedi\n"
     ]
    }
   ],
   "source": [
    "# Function with parameters and add a default param\n",
    "\n",
    "def greet_user(name , emoji = chr(0x1F60E)): \n",
    "    border = \"*\" * (len(name) +10) \n",
    "    print(f\"{border} \\nGood morning: {name} {emoji}\")\n",
    "    return name \n",
    "\n",
    "# call the function \n",
    "greet_user(\"Thibedi\")\n",
    "name = greet_user(\"Thibedi\" , emoji= chr(0x1F525))\n",
    "print(name)"
   ]
  },
  {
   "cell_type": "code",
   "execution_count": null,
   "metadata": {},
   "outputs": [
    {
     "name": "stdout",
     "output_type": "stream",
     "text": [
      "The area of the 2D rectangle is: 32m^2\n",
      "{'rectangle': {'length': 4, 'width': 8}, 'area': {'area': 32}}\n",
      "The Volume of the 3D cuboid is: 112.0m^3\n",
      "('cuboid', 112.0)\n"
     ]
    }
   ],
   "source": [
    "# Function that return a value\n",
    "from typing import Union\n",
    "def calc_area(length:Union[float, int] , width:Union[float, int] , breadth:Union[float,int ,None] = None): \n",
    "    \n",
    "    if breadth: \n",
    "        area = length * width * breadth\n",
    "        if length == width == breadth: \n",
    "            shape = \"cube\"\n",
    "        else: \n",
    "            shape = \"cuboid\"\n",
    "            \n",
    "        print(f\"The Volume of the 3D {shape} is: {area}m^3\")\n",
    "        return shape, area\n",
    "    \n",
    "    else: \n",
    "        area = length * width\n",
    "        if length == width:\n",
    "            shape = \"square\"\n",
    "        else: \n",
    "            shape = \"rectangle\"\n",
    "            \n",
    "        print(f\"The area of the 2D {shape} is: {area}m^2\")\n",
    "        return {shape: {\"length\": length,\n",
    "                        \"width\": width} , \n",
    "                \"area\": {\"area\": area}\n",
    "        } \n",
    "\n",
    "# Call the function\n",
    "two_d = calc_area(4 , 8)\n",
    "print(two_d)\n",
    "\n",
    "three_d = calc_area(4,8,3.5)\n",
    "print(three_d)\n",
    "    \n",
    "    "
   ]
  },
  {
   "cell_type": "code",
   "execution_count": null,
   "metadata": {},
   "outputs": [
    {
     "data": {
      "text/plain": [
       "13"
      ]
     },
     "execution_count": 407,
     "metadata": {},
     "output_type": "execute_result"
    }
   ],
   "source": [
    "def count_vowels(words: list[str]) -> int: \n",
    "    \"\"\"Counts the number of vowels in the list of words\n",
    "\n",
    "    Args:\n",
    "        words (list[str]): random words\n",
    "\n",
    "    Returns:\n",
    "        int: number of vowels\n",
    "    \"\"\"\n",
    "    vowels = \"aeiou\"\n",
    "    count = 0 \n",
    "    for wrd in words: \n",
    "        for char in wrd.lower():\n",
    "            if char in vowels:\n",
    "                count += 1\n",
    "    \n",
    "    return count \n",
    "\n",
    "count_vowels([\"Thibedi\" , \"Programming\", \"Cheese\" , \"Mac\" , \"Vanine\"])\n"
   ]
  },
  {
   "cell_type": "code",
   "execution_count": 408,
   "metadata": {},
   "outputs": [
    {
     "name": "stdout",
     "output_type": "stream",
     "text": [
      "Help on function count_vowels in module __main__:\n",
      "\n",
      "count_vowels(words: list[str]) -> int\n",
      "\n"
     ]
    }
   ],
   "source": [
    "help(count_vowels)"
   ]
  },
  {
   "cell_type": "markdown",
   "metadata": {},
   "source": [
    "# Random Module "
   ]
  },
  {
   "cell_type": "code",
   "execution_count": 411,
   "metadata": {},
   "outputs": [],
   "source": [
    "import random "
   ]
  },
  {
   "cell_type": "code",
   "execution_count": 447,
   "metadata": {},
   "outputs": [
    {
     "data": {
      "text/plain": [
       "2"
      ]
     },
     "execution_count": 447,
     "metadata": {},
     "output_type": "execute_result"
    }
   ],
   "source": [
    "# Dice \n",
    "\n",
    "dice_roll = random.randint(1,6)\n",
    "dice_roll "
   ]
  },
  {
   "cell_type": "code",
   "execution_count": 469,
   "metadata": {},
   "outputs": [
    {
     "data": {
      "text/plain": [
       "0.0896461220432262"
      ]
     },
     "execution_count": 469,
     "metadata": {},
     "output_type": "execute_result"
    }
   ],
   "source": [
    "prob = random.random()\n",
    "prob"
   ]
  },
  {
   "cell_type": "code",
   "execution_count": 486,
   "metadata": {},
   "outputs": [
    {
     "data": {
      "text/plain": [
       "'pears'"
      ]
     },
     "execution_count": 486,
     "metadata": {},
     "output_type": "execute_result"
    }
   ],
   "source": [
    "fruits = ['apple', 'grapes' , 'pears']\n",
    "random.choice(fruits)"
   ]
  },
  {
   "cell_type": "code",
   "execution_count": 498,
   "metadata": {},
   "outputs": [
    {
     "data": {
      "text/plain": [
       "['jack', 'joker', 'queens', 'kings', 'ace']"
      ]
     },
     "execution_count": 498,
     "metadata": {},
     "output_type": "execute_result"
    }
   ],
   "source": [
    "# Shuffle a list \n",
    "card = ['kings' , 'queens' , 'jack' , 'joker' , 'ace']\n",
    "random.shuffle(card)\n",
    "card"
   ]
  },
  {
   "cell_type": "code",
   "execution_count": 525,
   "metadata": {},
   "outputs": [
    {
     "name": "stdout",
     "output_type": "stream",
     "text": [
      "Player 1's hand: 7♠, 4♥, A♦, 2♠, 4♦, 2♦, Q♠, 4♣\n",
      "Player 2's hand: K♦, K♠, 7♣, A♥, 3♥, 7♦, 6♥, Q♥\n",
      "Player 3's hand: 6♠, J♦, 8♦, 3♠, 8♠, 10♣, J♥, 🃏Joker\n",
      "Player 4's hand: 2♥, 9♠, A♠, 6♦, 9♥, 6♣, A♣, J♠\n",
      "\n",
      "Top card on discard pile: K♣\n",
      "Cards left in deck: 21\n"
     ]
    }
   ],
   "source": [
    "import random\n",
    "\n",
    "# Step 1: Create a standard 54-card deck (including 2 Jokers)\n",
    "suits = ['♠', '♥', '♦', '♣']\n",
    "ranks = ['2', '3', '4', '5', '6', '7', '8', '9', '10', 'J', 'Q', 'K', 'A']\n",
    "deck = [f\"{rank}{suit}\" for suit in suits for rank in ranks]\n",
    "deck += ['🃏Joker', '🃏Joker']\n",
    "\n",
    "# Step 2: Shuffle the deck\n",
    "random.shuffle(deck)\n",
    "\n",
    "# Step 3: Deal cards to players\n",
    "def deal_cards(deck, num_players=4, cards_per_player=8):\n",
    "    hands = {f\"Player {i+1}\": [] for i in range(num_players)}\n",
    "    for _ in range(cards_per_player):\n",
    "        for player in hands:\n",
    "            hands[player].append(deck.pop(0))\n",
    "    return hands, deck\n",
    "\n",
    "# Step 4: Run the game start logic\n",
    "hands, remaining_deck = deal_cards(deck)\n",
    "\n",
    "# Step 5: Show each player's hand\n",
    "for player, cards in hands.items():\n",
    "    print(f\"{player}'s hand: {', '.join(cards)}\")\n",
    "\n",
    "# Optional: show top card for the discard pile\n",
    "top_card = remaining_deck.pop(0)\n",
    "print(f\"\\nTop card on discard pile: {top_card}\")\n",
    "print(f\"Cards left in deck: {len(remaining_deck)}\")\n"
   ]
  },
  {
   "cell_type": "markdown",
   "metadata": {},
   "source": [
    "# Error handling "
   ]
  },
  {
   "cell_type": "code",
   "execution_count": 526,
   "metadata": {},
   "outputs": [
    {
     "ename": "ZeroDivisionError",
     "evalue": "division by zero",
     "output_type": "error",
     "traceback": [
      "\u001b[0;31m---------------------------------------------------------------------------\u001b[0m",
      "\u001b[0;31mZeroDivisionError\u001b[0m                         Traceback (most recent call last)",
      "Cell \u001b[0;32mIn[526], line 2\u001b[0m\n\u001b[1;32m      1\u001b[0m number \u001b[38;5;241m=\u001b[39m \u001b[38;5;28mint\u001b[39m(\u001b[38;5;28minput\u001b[39m(\u001b[38;5;124m'\u001b[39m\u001b[38;5;124mEnter a number: \u001b[39m\u001b[38;5;124m'\u001b[39m))\n\u001b[0;32m----> 2\u001b[0m result \u001b[38;5;241m=\u001b[39m \u001b[38;5;241;43m10\u001b[39;49m\u001b[38;5;241;43m/\u001b[39;49m\u001b[43mnumber\u001b[49m \n\u001b[1;32m      3\u001b[0m \u001b[38;5;28mprint\u001b[39m(\u001b[38;5;124mf\u001b[39m\u001b[38;5;124m\"\u001b[39m\u001b[38;5;124mResult: \u001b[39m\u001b[38;5;132;01m{\u001b[39;00mresult\u001b[38;5;132;01m}\u001b[39;00m\u001b[38;5;124m\"\u001b[39m)\n",
      "\u001b[0;31mZeroDivisionError\u001b[0m: division by zero"
     ]
    }
   ],
   "source": [
    "number = int(input('Enter a number: '))\n",
    "result = 10/number \n",
    "print(f\"Result: {result}\")"
   ]
  },
  {
   "cell_type": "code",
   "execution_count": 9,
   "metadata": {},
   "outputs": [
    {
     "name": "stdout",
     "output_type": "stream",
     "text": [
      "Something else went wrong: Forced error\n",
      "This part runs no matter what error is thrown\n"
     ]
    }
   ],
   "source": [
    "# try-except blocks \n",
    "\n",
    "try: \n",
    "    number = int(input('Enter a number: '))\n",
    "    result = 10/number \n",
    "    if number == 999: \n",
    "        raise RuntimeError('Forced error')\n",
    "    print(f\"Result: {result}\")\n",
    "except ValueError: \n",
    "    print('That is not a valid number')\n",
    "    \n",
    "except ZeroDivisionError : \n",
    "    print(f'You can not divide this by zero: ')\n",
    "    \n",
    "except Exception as e: \n",
    "    print(f'Something else went wrong: {e}')\n",
    "\n",
    "finally: \n",
    "    print(\"This part runs no matter what error is thrown\")"
   ]
  },
  {
   "cell_type": "code",
   "execution_count": 12,
   "metadata": {},
   "outputs": [
    {
     "name": "stdout",
     "output_type": "stream",
     "text": [
      "Number we are sorting for: 64\n",
      "64 is greater than 34 \n",
      "\n",
      "64 is greater than 25 \n",
      "\n",
      "64 is greater than 12 \n",
      "\n",
      "64 is greater than 22 \n",
      "\n",
      "64 is greater than 11 \n",
      "\n",
      "Number we are sorting for: 25\n",
      "34 is greater than 25 \n",
      "\n",
      "34 is greater than 12 \n",
      "\n",
      "34 is greater than 22 \n",
      "\n",
      "34 is greater than 11 \n",
      "\n",
      "Number we are sorting for: 22\n",
      "25 is greater than 12 \n",
      "\n",
      "25 is greater than 22 \n",
      "\n",
      "25 is greater than 11 \n",
      "\n",
      "Number we are sorting for: 25\n",
      "22 is greater than 11 \n",
      "\n",
      "Number we are sorting for: 34\n",
      "12 is greater than 11 \n",
      "\n",
      "Number we are sorting for: 64\n",
      "Number we are sorting for: 90\n"
     ]
    },
    {
     "data": {
      "text/plain": [
       "[11, 12, 22, 25, 34, 64, 90]"
      ]
     },
     "execution_count": 12,
     "metadata": {},
     "output_type": "execute_result"
    }
   ],
   "source": [
    "def bubble_sort(arr):\n",
    "    n = len(arr)\n",
    "    # Traverse through all array elements\n",
    "    for i in range(n):\n",
    "        print(f\"Number we are sorting for: {arr[i]}\")\n",
    "        # Last i elements are already in place\n",
    "        for j in range(0, n-i-1):\n",
    "            # Swap if the element found is greater than the next element\n",
    "            if arr[j] > arr[j+1]:\n",
    "                print(f\"{arr[j]} is greater than {arr[j+1]} \\n\")\n",
    "                arr[j], arr[j+1] = arr[j+1], arr[j]\n",
    "    return arr\n",
    "\n",
    "numbers = [64, 34, 25, 12, 22, 11, 90]\n",
    "bubble_sort(numbers)"
   ]
  },
  {
   "cell_type": "code",
   "execution_count": null,
   "metadata": {},
   "outputs": [],
   "source": []
  }
 ],
 "metadata": {
  "kernelspec": {
   "display_name": "base",
   "language": "python",
   "name": "python3"
  },
  "language_info": {
   "codemirror_mode": {
    "name": "ipython",
    "version": 3
   },
   "file_extension": ".py",
   "mimetype": "text/x-python",
   "name": "python",
   "nbconvert_exporter": "python",
   "pygments_lexer": "ipython3",
   "version": "3.12.2"
  }
 },
 "nbformat": 4,
 "nbformat_minor": 2
}
